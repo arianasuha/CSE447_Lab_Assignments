{
  "nbformat": 4,
  "nbformat_minor": 0,
  "metadata": {
    "colab": {
      "provenance": []
    },
    "kernelspec": {
      "name": "python3",
      "display_name": "Python 3"
    },
    "language_info": {
      "name": "python"
    }
  },
  "cells": [
    {
      "cell_type": "code",
      "source": [
        "!pip install PyCryptodome"
      ],
      "metadata": {
        "colab": {
          "base_uri": "https://localhost:8080/"
        },
        "id": "Mo9IWa4YeIqm",
        "outputId": "1ebda230-3caf-4ada-ab9b-571452aa690b"
      },
      "execution_count": null,
      "outputs": [
        {
          "output_type": "stream",
          "name": "stdout",
          "text": [
            "Collecting PyCryptodome\n",
            "  Downloading pycryptodome-3.21.0-cp36-abi3-manylinux_2_17_x86_64.manylinux2014_x86_64.whl.metadata (3.4 kB)\n",
            "Downloading pycryptodome-3.21.0-cp36-abi3-manylinux_2_17_x86_64.manylinux2014_x86_64.whl (2.3 MB)\n",
            "\u001b[2K   \u001b[90m━━━━━━━━━━━━━━━━━━━━━━━━━━━━━━━━━━━━━━━━\u001b[0m \u001b[32m2.3/2.3 MB\u001b[0m \u001b[31m15.4 MB/s\u001b[0m eta \u001b[36m0:00:00\u001b[0m\n",
            "\u001b[?25hInstalling collected packages: PyCryptodome\n",
            "Successfully installed PyCryptodome-3.21.0\n"
          ]
        }
      ]
    },
    {
      "cell_type": "code",
      "execution_count": null,
      "metadata": {
        "id": "gtdy5PGTd2Lb"
      },
      "outputs": [],
      "source": [
        "from Crypto.Cipher import DES\n",
        "from Crypto.Random import get_random_bytes"
      ]
    },
    {
      "cell_type": "code",
      "source": [
        "def pad_text(text):\n",
        "  pad = len(text) % 8\n",
        "  pad = 8 - pad\n",
        "  padding = pad * bytes([pad])\n",
        "  output = text + padding\n",
        "  return output\n",
        "\n",
        "\n",
        "    # Ensure the plaintext length is a multiple of 8 bytes (DES block size)\n",
        "    #generate and return the padded_text\n",
        "    # return padded_text"
      ],
      "metadata": {
        "id": "2YUag_rOe8Ox"
      },
      "execution_count": null,
      "outputs": []
    },
    {
      "cell_type": "code",
      "source": [
        "def des_encrypt(plaintext, key):\n",
        "    des_cipher = DES.new(key, DES.MODE_ECB)\n",
        "    ciphertext1 = des_cipher.encrypt(plaintext)\n",
        "    ciphertext2 = des_cipher.encrypt(ciphertext1)\n",
        "    return ciphertext2"
      ],
      "metadata": {
        "id": "N7Yr6dX6fFEd"
      },
      "execution_count": null,
      "outputs": []
    },
    {
      "cell_type": "code",
      "source": [
        "plaintext = b\"This is a secret\"\n",
        "key = get_random_bytes(8)  # Generate a random 64-bit (8-byte) key\n",
        "\n",
        "print(\"Original plaintext:\", plaintext.decode('utf-8'))\n",
        "print(\"Original key (in bytes):\", key)\n",
        "\n",
        "plaintext = pad_text(plaintext)\n",
        "\n",
        "ciphertext = des_encrypt(plaintext, key)\n",
        "print(\"Encrypted ciphertext (in bytes):\", ciphertext)"
      ],
      "metadata": {
        "colab": {
          "base_uri": "https://localhost:8080/"
        },
        "id": "zdMdYJzofDCi",
        "outputId": "15a9ab87-5eef-4f57-a816-77837783aeed"
      },
      "execution_count": null,
      "outputs": [
        {
          "output_type": "stream",
          "name": "stdout",
          "text": [
            "Original plaintext: This is a secret\n",
            "Original key (in bytes): b'\\xfb\\xb8?\\xb7Z\\xa4\\x84\\x9b'\n",
            "8\n",
            "Encrypted ciphertext (in bytes): b'M\\x15\\t0\\xc7\\x03\\nv\\xab\\x03\\xd9\\xb9\\xbb\\xc5D\\x84\\x84\\xab}\\xd8\\xd6\\x99nJ'\n"
          ]
        }
      ]
    },
    {
      "cell_type": "code",
      "source": [
        "def unpad_text(padded_text):\n",
        "    # Remove the padding bytes to get the original plaintext\n",
        "    # Done for you\n",
        "    padding_length = padded_text[-1]\n",
        "    if padding_length > 0 and padding_length <= 8:\n",
        "        return padded_text[:-padding_length]\n",
        "    else:\n",
        "        return padded_text"
      ],
      "metadata": {
        "id": "KoXC3lYDfK2_"
      },
      "execution_count": null,
      "outputs": []
    },
    {
      "cell_type": "code",
      "source": [
        "def des_decrypt(ciphertext, key):\n",
        "  des_cipher = DES.new(key, DES.MODE_ECB)\n",
        "  plaintext = des_cipher.decrypt(ciphertext)\n",
        "  return plaintext"
      ],
      "metadata": {
        "id": "u2i13KIUfL21"
      },
      "execution_count": null,
      "outputs": []
    },
    {
      "cell_type": "code",
      "source": [
        "# Replace these with your ciphertext and key\n",
        "ciphertext = b'\\xa5\\x8a}\\xae\\xd9\\x03\\x1c\\xf1\\x8c\\x99\\xc5\\xd0\\xe1\\xd8,b\\x01\\xc1\\\\\\x1ci\\xae1\\xe4'\n",
        "key = b'P\\xae\\xfb\\xb9\\xb3\\x8ae\\xde'\n",
        "\n",
        "decrypted_text = des_decrypt(ciphertext, key)\n",
        "original_text = unpad_text(decrypted_text)\n",
        "\n",
        "print(\"Decrypted text:\", original_text.decode('utf-8'))"
      ],
      "metadata": {
        "colab": {
          "base_uri": "https://localhost:8080/"
        },
        "id": "8IfaHQVvfO4m",
        "outputId": "2162e53d-e592-47bb-a217-9832f7a00f7d"
      },
      "execution_count": null,
      "outputs": [
        {
          "output_type": "stream",
          "name": "stdout",
          "text": [
            "Decrypted text: This is a secret\n"
          ]
        }
      ]
    },
    {
      "cell_type": "code",
      "source": [
        "#Implement double DES"
      ],
      "metadata": {
        "id": "jWwMSldIgfxl"
      },
      "execution_count": null,
      "outputs": []
    },
    {
      "cell_type": "code",
      "source": [],
      "metadata": {
        "id": "DbXogE1RElIW"
      },
      "execution_count": null,
      "outputs": []
    }
  ]
}