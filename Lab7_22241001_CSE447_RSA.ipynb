{
  "cells": [
    {
      "cell_type": "markdown",
      "metadata": {
        "id": "SN8H1wkXPXZ9"
      },
      "source": [
        "# RSA"
      ]
    },
    {
      "cell_type": "code",
      "execution_count": null,
      "metadata": {
        "colab": {
          "base_uri": "https://localhost:8080/"
        },
        "id": "cdtAO8nJT2kf",
        "outputId": "238f2fe4-71a2-4fd0-80f0-7d9c972149ad"
      },
      "outputs": [
        {
          "output_type": "stream",
          "name": "stdout",
          "text": [
            "91694925243764\n"
          ]
        }
      ],
      "source": [
        "m = int(\"Secret\".encode(\"utf-8\").hex(),16)\n",
        "print(m)"
      ]
    },
    {
      "cell_type": "code",
      "source": [
        "#generate large prime(128 bits) p and q\n",
        "from sympy import randprime\n",
        "#bit_length = 128\n",
        "p = randprime(2 ** 127, 2 ** 128)\n",
        "q = randprime(2 ** 127, 2 ** 128)\n",
        "n = p * q\n",
        "phi_n = (p-1)*(q-1)\n",
        "print(f\"n: {n}, \\nphi_n : {phi_n}\")"
      ],
      "metadata": {
        "id": "u1fe5OEdFGGC",
        "colab": {
          "base_uri": "https://localhost:8080/"
        },
        "outputId": "4c6380a0-8322-403f-d499-97782434791f"
      },
      "execution_count": null,
      "outputs": [
        {
          "output_type": "stream",
          "name": "stdout",
          "text": [
            "n: 67488000215883373453212483507525025002527096660667364699377796084046126535277, \n",
            "phi_n : 67488000215883373453212483507525025002007508647000205581168314634808591552220\n"
          ]
        }
      ]
    },
    {
      "cell_type": "code",
      "execution_count": null,
      "metadata": {
        "colab": {
          "base_uri": "https://localhost:8080/"
        },
        "id": "Flep_Z78Pak0",
        "outputId": "fd28674c-414c-4b4a-afcf-eeaef41e3705"
      },
      "outputs": [
        {
          "output_type": "stream",
          "name": "stdout",
          "text": [
            "Encrypted Text: 41349913014279971070277634029056655094041696982881947016863213308383388190788\n"
          ]
        }
      ],
      "source": [
        "#Perform encryption here and generate ciphertext c and private key d\n",
        "e = 11\n",
        "d = pow(e, -1, phi_n)\n",
        "public_key = (n, e)\n",
        "private_key = (n, d)\n",
        "def encrypt_message(message, public_key):\n",
        "    n, e = public_key\n",
        "    # Convert the message to an integer (this is a simple approach, ideally it should be more sophisticated)\n",
        "    # m = int.from_bytes(message.encode(), 'big')\n",
        "    # Encrypt the message: c = m^e mod n\n",
        "    c = pow(m, e, n)\n",
        "    return c\n",
        "cipher_text = encrypt_message(m, public_key)\n",
        "print(\"Encrypted Text:\", cipher_text)"
      ]
    },
    {
      "cell_type": "code",
      "execution_count": null,
      "metadata": {
        "id": "CUApcT0PZ4es",
        "colab": {
          "base_uri": "https://localhost:8080/",
          "height": 35
        },
        "outputId": "a8420d3a-4dd4-45cd-d027-a361b47b068a"
      },
      "outputs": [
        {
          "output_type": "execute_result",
          "data": {
            "text/plain": [
              "'Secret'"
            ],
            "application/vnd.google.colaboratory.intrinsic+json": {
              "type": "string"
            }
          },
          "metadata": {},
          "execution_count": 19
        }
      ],
      "source": [
        "#perform decryption here\n",
        "def decrypt_message(ciphertext, private_key):\n",
        "    n, d = private_key\n",
        "    # Decrypt the message: m = c^d mod n\n",
        "    m = pow(ciphertext, d, n)\n",
        "    # Convert the decrypted integer back to a string\n",
        "    message = m.to_bytes((m.bit_length() + 7) // 8, 'big').decode()\n",
        "    return message\n",
        "decrypt_message(cipher_text, private_key)"
      ]
    },
    {
      "cell_type": "code",
      "source": [
        "m = 91694925243764\n",
        "print(bytes.fromhex(hex(m)[2:]).decode('utf-8') )"
      ],
      "metadata": {
        "colab": {
          "base_uri": "https://localhost:8080/"
        },
        "id": "sHDbhVSGFN6K",
        "outputId": "04a6d1a7-46ce-4ff1-eecb-e2e0394fc4a5"
      },
      "execution_count": null,
      "outputs": [
        {
          "output_type": "stream",
          "name": "stdout",
          "text": [
            "Secret\n"
          ]
        }
      ]
    },
    {
      "cell_type": "code",
      "source": [
        "p1 = 3\n",
        "q1 = 11\n",
        "p2 = 5\n",
        "q2 = 7\n",
        "p3 = 13\n",
        "q3 = 19\n",
        "m = 17\n",
        "e = 3"
      ],
      "metadata": {
        "id": "Nc68YN1OZpJX"
      },
      "execution_count": null,
      "outputs": []
    },
    {
      "cell_type": "code",
      "source": [
        "p1 = randprime(2 ** 127, 2 ** 128)\n",
        "q1 = randprime(2 ** 127, 2 ** 128)\n",
        "p2 = randprime(2 ** 127, 2 ** 128)\n",
        "q2 = randprime(2 ** 127, 2 ** 128)\n",
        "p3 = randprime(2 ** 127, 2 ** 128)\n",
        "q3 = randprime(2 ** 127, 2 ** 128)\n",
        "m = 17\n",
        "e = 3"
      ],
      "metadata": {
        "id": "T6WJJHzHfumn"
      },
      "execution_count": null,
      "outputs": []
    },
    {
      "cell_type": "code",
      "source": [
        "n1 = p1 * q1\n",
        "n2 = p2 * q2\n",
        "n3 = p3 * q3"
      ],
      "metadata": {
        "id": "pLh0GIU1Z7JH"
      },
      "execution_count": null,
      "outputs": []
    },
    {
      "cell_type": "code",
      "source": [
        "c1 = (m ** 3) % n1\n",
        "c2 = (m ** 3) % n2\n",
        "c3 = (m ** 3) % n3\n",
        "print(c1, c2, c3)\n",
        "m1 = n2 * n3\n",
        "m2 = n1 * n3\n",
        "m3 = n1 * n2\n",
        "n_total = n1 * n2 * n3\n",
        "x1 = c1*m1*pow(m1, -1, n1)\n",
        "x2 = c2*m2*pow(m2, -1, n2)\n",
        "x3 = c3*m3*pow(m3, -1, n3)\n",
        "x = x1 + x2 + x3\n",
        "\n",
        "val = pow(x, 1, n_total)\n",
        "x = val ** (1/3)\n",
        "x = round(x, 2)\n",
        "print(x)"
      ],
      "metadata": {
        "colab": {
          "base_uri": "https://localhost:8080/"
        },
        "id": "CF30BzuqacMx",
        "outputId": "01428089-70b9-42fd-ff58-ebf94cdde3c3"
      },
      "execution_count": null,
      "outputs": [
        {
          "output_type": "stream",
          "name": "stdout",
          "text": [
            "29 13 220\n",
            "17.0\n"
          ]
        }
      ]
    }
  ],
  "metadata": {
    "colab": {
      "provenance": []
    },
    "kernelspec": {
      "display_name": "Python 3",
      "name": "python3"
    },
    "language_info": {
      "name": "python"
    }
  },
  "nbformat": 4,
  "nbformat_minor": 0
}